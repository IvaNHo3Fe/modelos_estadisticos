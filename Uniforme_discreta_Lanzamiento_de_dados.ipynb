{
  "nbformat": 4,
  "nbformat_minor": 0,
  "metadata": {
    "colab": {
      "provenance": []
    },
    "kernelspec": {
      "name": "python3",
      "display_name": "Python 3"
    },
    "language_info": {
      "name": "python"
    }
  },
  "cells": [
    {
      "cell_type": "markdown",
      "source": [
        "# Lanzaminento de dos dados"
      ],
      "metadata": {
        "id": "mdfUeacVO25N"
      }
    },
    {
      "cell_type": "markdown",
      "source": [
        "## Diccionarios:\n",
        "\n",
        "$$\\{\\text{key}:\\text{values}\\}.$$"
      ],
      "metadata": {
        "id": "LUvs-BoQ72tw"
      }
    },
    {
      "cell_type": "code",
      "source": [
        "d = {\"Hiram\": [\"Guitarra\", \"Piano\", \"Ukulele\"],\n",
        "     \"Julio\": [3, 10, 12],\n",
        "     \"Gal\": [7.0, 5.0, 6.0]}"
      ],
      "metadata": {
        "id": "OqZCp5xl85yT"
      },
      "execution_count": 41,
      "outputs": []
    },
    {
      "cell_type": "code",
      "source": [
        "type(d)"
      ],
      "metadata": {
        "colab": {
          "base_uri": "https://localhost:8080/"
        },
        "id": "pFyguScj9ubX",
        "outputId": "f3b4d6d4-9031-4648-c679-658223bfbaaf"
      },
      "execution_count": 42,
      "outputs": [
        {
          "output_type": "execute_result",
          "data": {
            "text/plain": [
              "dict"
            ]
          },
          "metadata": {},
          "execution_count": 42
        }
      ]
    },
    {
      "cell_type": "code",
      "source": [
        "d.keys() # Son las llaves de un diccionario"
      ],
      "metadata": {
        "colab": {
          "base_uri": "https://localhost:8080/"
        },
        "id": "k18TO-bC9yXk",
        "outputId": "9f94965a-a6f2-4011-9e84-e94340ac3683"
      },
      "execution_count": 43,
      "outputs": [
        {
          "output_type": "execute_result",
          "data": {
            "text/plain": [
              "dict_keys(['Hiram', 'Julio', 'Gal'])"
            ]
          },
          "metadata": {},
          "execution_count": 43
        }
      ]
    },
    {
      "cell_type": "code",
      "source": [
        "d.values()"
      ],
      "metadata": {
        "colab": {
          "base_uri": "https://localhost:8080/"
        },
        "id": "28wOUjQV-vrB",
        "outputId": "9cb418bf-844d-46d2-c544-3d2fa4be0c01"
      },
      "execution_count": 44,
      "outputs": [
        {
          "output_type": "execute_result",
          "data": {
            "text/plain": [
              "dict_values([['Guitarra', 'Piano', 'Ukulele'], [3, 10, 12], [7.0, 5.0, 6.0]])"
            ]
          },
          "metadata": {},
          "execution_count": 44
        }
      ]
    },
    {
      "cell_type": "code",
      "source": [
        "d.items()"
      ],
      "metadata": {
        "colab": {
          "base_uri": "https://localhost:8080/"
        },
        "id": "N_Sc9R7x-zvN",
        "outputId": "a37bd66b-7f61-4882-b192-4872d577b714"
      },
      "execution_count": 45,
      "outputs": [
        {
          "output_type": "execute_result",
          "data": {
            "text/plain": [
              "dict_items([('Hiram', ['Guitarra', 'Piano', 'Ukulele']), ('Julio', [3, 10, 12]), ('Gal', [7.0, 5.0, 6.0])])"
            ]
          },
          "metadata": {},
          "execution_count": 45
        }
      ]
    },
    {
      "cell_type": "markdown",
      "source": [
        "## Se lanzan dos dados justos:\n",
        "\n",
        "- $\\Omega = \\{1,2,3,4,5,6\\}\\times \\{1,2,3,4,5,6 \\}$.\n",
        "- $\\mathcal{F}=p(\\Omega)$.\n",
        "- Para $\\omega=(i,j)$ donde $i, j=1,\\dots, 6$\n",
        "$$\\mathbb{P}(\\{\\omega\\})=\\frac{1}{36}$$\n",
        "\n",
        "---\n",
        "\n",
        "## Vamos a definir a la siguiente variable aleatoria:\n",
        "\n",
        "$S$ es la variable aleatoria que cuenta la suma de las caras de los dados.\n",
        "\n",
        "$$S:\\Omega \\to R_{S}=\\{2, 3, 4, 5, 6, 7, 8, 9, 10, 11, 12 \\}$$\n"
      ],
      "metadata": {
        "id": "nBRNpHeU-6eY"
      }
    },
    {
      "cell_type": "markdown",
      "source": [
        "Para entender a la ley de la variable aleatoria, basta con entender a los siguientes datos:\n",
        "$$\\{(k, \\mathbb{P}(S=k)) \\}_{k \\in R_{S}}.$$"
      ],
      "metadata": {
        "id": "jyEj3_JUCp1-"
      }
    },
    {
      "cell_type": "markdown",
      "source": [
        "Veamos a $S$ como eventos. Sea $S_{n}$ el evento la suma de las caras es $n$.\n"
      ],
      "metadata": {
        "id": "Lb4Gka4xDQ1x"
      }
    },
    {
      "cell_type": "code",
      "source": [
        "from itertools import product\n",
        "from fractions import Fraction"
      ],
      "metadata": {
        "id": "V9yWfRx-D8Xh"
      },
      "execution_count": 46,
      "outputs": []
    },
    {
      "cell_type": "code",
      "source": [
        "## Se define una función en Python que obtenga la probabilidad del evento A\n",
        "## en el espacio muestral de Omega y lo muestra como fracción.\n",
        "\n",
        "def P(A, Omega):\n",
        "  P = Fraction(len(A), len(Omega))\n",
        "  return P"
      ],
      "metadata": {
        "id": "wR5gDqmoENYj"
      },
      "execution_count": 47,
      "outputs": []
    },
    {
      "cell_type": "markdown",
      "source": [
        "$$S_{n}=\\{(i,j)\\in \\Omega : i+j = n \\}$$"
      ],
      "metadata": {
        "id": "Q1Ob8-tzEhfv"
      }
    },
    {
      "cell_type": "code",
      "source": [
        "#Obteniendo los elementos de S de manera lenta\n",
        "S_2 = {(i,j)for i in range(1,7) for j in range(1,7) if i+j == 2}\n",
        "S_2"
      ],
      "metadata": {
        "colab": {
          "base_uri": "https://localhost:8080/"
        },
        "id": "m-252x3SE8DC",
        "outputId": "40350ee2-0ace-42f3-c7f2-994eb61030f7"
      },
      "execution_count": 48,
      "outputs": [
        {
          "output_type": "execute_result",
          "data": {
            "text/plain": [
              "{(1, 1)}"
            ]
          },
          "metadata": {},
          "execution_count": 48
        }
      ]
    },
    {
      "cell_type": "code",
      "source": [
        "# Se define el espacio muestral de lanzar 2 dados justos\n",
        "\n",
        "L = [i for i in range(1,7)]\n",
        "# print(L)\n",
        "Omega = set(product(L, repeat = 2))\n",
        "Omega"
      ],
      "metadata": {
        "colab": {
          "base_uri": "https://localhost:8080/"
        },
        "id": "8EzVtAi4Ejm6",
        "outputId": "e06091ca-c328-420d-c40e-b6784b6e20a5"
      },
      "execution_count": 49,
      "outputs": [
        {
          "output_type": "execute_result",
          "data": {
            "text/plain": [
              "{(1, 1),\n",
              " (1, 2),\n",
              " (1, 3),\n",
              " (1, 4),\n",
              " (1, 5),\n",
              " (1, 6),\n",
              " (2, 1),\n",
              " (2, 2),\n",
              " (2, 3),\n",
              " (2, 4),\n",
              " (2, 5),\n",
              " (2, 6),\n",
              " (3, 1),\n",
              " (3, 2),\n",
              " (3, 3),\n",
              " (3, 4),\n",
              " (3, 5),\n",
              " (3, 6),\n",
              " (4, 1),\n",
              " (4, 2),\n",
              " (4, 3),\n",
              " (4, 4),\n",
              " (4, 5),\n",
              " (4, 6),\n",
              " (5, 1),\n",
              " (5, 2),\n",
              " (5, 3),\n",
              " (5, 4),\n",
              " (5, 5),\n",
              " (5, 6),\n",
              " (6, 1),\n",
              " (6, 2),\n",
              " (6, 3),\n",
              " (6, 4),\n",
              " (6, 5),\n",
              " (6, 6)}"
            ]
          },
          "metadata": {},
          "execution_count": 49
        }
      ]
    },
    {
      "cell_type": "code",
      "source": [
        "## Se llena a S de los eventos de Omega y el valor que toma la v.a.\n",
        "## bajo cada evento\n",
        "\n",
        "S = {(i,j): i+j for i,j in Omega}\n",
        "S"
      ],
      "metadata": {
        "colab": {
          "base_uri": "https://localhost:8080/"
        },
        "id": "fQ3xsUwnFjus",
        "outputId": "75c1ed85-fdda-4fcf-be75-34f2e3087107"
      },
      "execution_count": 50,
      "outputs": [
        {
          "output_type": "execute_result",
          "data": {
            "text/plain": [
              "{(3, 4): 7,\n",
              " (4, 3): 7,\n",
              " (3, 1): 4,\n",
              " (5, 4): 9,\n",
              " (4, 6): 10,\n",
              " (5, 1): 6,\n",
              " (2, 2): 4,\n",
              " (1, 6): 7,\n",
              " (2, 5): 7,\n",
              " (1, 3): 4,\n",
              " (6, 2): 8,\n",
              " (6, 5): 11,\n",
              " (4, 2): 6,\n",
              " (4, 5): 9,\n",
              " (3, 3): 6,\n",
              " (5, 6): 11,\n",
              " (3, 6): 9,\n",
              " (5, 3): 8,\n",
              " (2, 4): 6,\n",
              " (1, 2): 3,\n",
              " (2, 1): 3,\n",
              " (1, 5): 6,\n",
              " (6, 1): 7,\n",
              " (6, 4): 10,\n",
              " (3, 2): 5,\n",
              " (4, 1): 5,\n",
              " (3, 5): 8,\n",
              " (5, 2): 7,\n",
              " (4, 4): 8,\n",
              " (5, 5): 10,\n",
              " (1, 1): 2,\n",
              " (1, 4): 5,\n",
              " (2, 3): 5,\n",
              " (2, 6): 8,\n",
              " (6, 6): 12,\n",
              " (6, 3): 9}"
            ]
          },
          "metadata": {},
          "execution_count": 50
        }
      ]
    },
    {
      "cell_type": "code",
      "source": [
        "## Se importa el módulo collections para dar mejor presentación y orden a\n",
        "## los diccionarios\n",
        "\n",
        "from collections import defaultdict\n",
        "\n",
        "dS = defaultdict(set)\n",
        "dS"
      ],
      "metadata": {
        "colab": {
          "base_uri": "https://localhost:8080/"
        },
        "id": "zFsfLEA8GbwQ",
        "outputId": "2cd60e29-9743-4832-b849-66fcd52a522e"
      },
      "execution_count": 51,
      "outputs": [
        {
          "output_type": "execute_result",
          "data": {
            "text/plain": [
              "defaultdict(set, {})"
            ]
          },
          "metadata": {},
          "execution_count": 51
        }
      ]
    },
    {
      "cell_type": "code",
      "source": [
        "for i,j in S.items():\n",
        "  dS[j].add(i)"
      ],
      "metadata": {
        "id": "AcCid1DQHrDZ"
      },
      "execution_count": 52,
      "outputs": []
    },
    {
      "cell_type": "code",
      "source": [
        "## Se muestra el contenido del default dictionary\n",
        "\n",
        "dS"
      ],
      "metadata": {
        "colab": {
          "base_uri": "https://localhost:8080/"
        },
        "id": "NH5pV6PXIRsX",
        "outputId": "8882af79-c6a1-4cd1-a45c-dd4738f792c8"
      },
      "execution_count": 53,
      "outputs": [
        {
          "output_type": "execute_result",
          "data": {
            "text/plain": [
              "defaultdict(set,\n",
              "            {7: {(1, 6), (2, 5), (3, 4), (4, 3), (5, 2), (6, 1)},\n",
              "             4: {(1, 3), (2, 2), (3, 1)},\n",
              "             9: {(3, 6), (4, 5), (5, 4), (6, 3)},\n",
              "             10: {(4, 6), (5, 5), (6, 4)},\n",
              "             6: {(1, 5), (2, 4), (3, 3), (4, 2), (5, 1)},\n",
              "             8: {(2, 6), (3, 5), (4, 4), (5, 3), (6, 2)},\n",
              "             11: {(5, 6), (6, 5)},\n",
              "             3: {(1, 2), (2, 1)},\n",
              "             5: {(1, 4), (2, 3), (3, 2), (4, 1)},\n",
              "             2: {(1, 1)},\n",
              "             12: {(6, 6)}})"
            ]
          },
          "metadata": {},
          "execution_count": 53
        }
      ]
    },
    {
      "cell_type": "code",
      "source": [
        "## Se llena un diccionario con clave k y valor P(k).\n",
        "\n",
        "leyS = {k : P(A,Omega) for k, A in dS.items()}\n",
        "leyS"
      ],
      "metadata": {
        "colab": {
          "base_uri": "https://localhost:8080/"
        },
        "id": "KQzZIPyUJO-l",
        "outputId": "1bf2aa52-b260-4e09-d8f6-32627057ac22"
      },
      "execution_count": 54,
      "outputs": [
        {
          "output_type": "execute_result",
          "data": {
            "text/plain": [
              "{7: Fraction(1, 6),\n",
              " 4: Fraction(1, 12),\n",
              " 9: Fraction(1, 9),\n",
              " 10: Fraction(1, 12),\n",
              " 6: Fraction(5, 36),\n",
              " 8: Fraction(5, 36),\n",
              " 11: Fraction(1, 18),\n",
              " 3: Fraction(1, 18),\n",
              " 5: Fraction(1, 9),\n",
              " 2: Fraction(1, 36),\n",
              " 12: Fraction(1, 36)}"
            ]
          },
          "metadata": {},
          "execution_count": 54
        }
      ]
    },
    {
      "cell_type": "markdown",
      "source": [
        "## Introducción a Pandas"
      ],
      "metadata": {
        "id": "w0shw4vgJ4b2"
      }
    },
    {
      "cell_type": "code",
      "source": [
        "import pandas as pd"
      ],
      "metadata": {
        "id": "4H7Ccx44JpHy"
      },
      "execution_count": 55,
      "outputs": []
    },
    {
      "cell_type": "code",
      "source": [
        "## Convirtiendo el diccionario LeyS a Serie de Pandas y ordenamos\n",
        "\n",
        "leyS = pd.Series(leyS).sort_index()\n",
        "leyS"
      ],
      "metadata": {
        "colab": {
          "base_uri": "https://localhost:8080/"
        },
        "id": "fZo0pEzpKMu_",
        "outputId": "3e06d135-02c0-4ec8-b028-de009c674c02"
      },
      "execution_count": 56,
      "outputs": [
        {
          "output_type": "execute_result",
          "data": {
            "text/plain": [
              "2     1/36\n",
              "3     1/18\n",
              "4     1/12\n",
              "5      1/9\n",
              "6     5/36\n",
              "7      1/6\n",
              "8     5/36\n",
              "9      1/9\n",
              "10    1/12\n",
              "11    1/18\n",
              "12    1/36\n",
              "dtype: object"
            ]
          },
          "metadata": {},
          "execution_count": 56
        }
      ]
    },
    {
      "cell_type": "markdown",
      "source": [
        "### Ejercicios:\n",
        "1.- Documenta tu colab.\n",
        "\n",
        "2.- Calcula la ley de las siguientes variables aleatorias:\n",
        "\n",
        "  - La diferencia de las caras sea mayor que $1$.\n",
        "\n",
        "  - La suma de las caras sea par.\n",
        "\n",
        "3.- Verifica, en cada caso, que $$\\sum_{k\\in R_{X}}\\mathbb{P}(X=x)=1.$$\n",
        "\n",
        "4.- Sube tu notebook a tu GitHub.\n",
        "\n",
        "\n"
      ],
      "metadata": {
        "id": "WVNSDXfSKqOs"
      }
    },
    {
      "cell_type": "markdown",
      "source": [
        "## Calcula la ley de las siguientes variables aleatorias:"
      ],
      "metadata": {
        "id": "FsLIC5pYXA8Y"
      }
    },
    {
      "cell_type": "markdown",
      "source": [
        "### *La diferencia de las caras sea mayor que 1*\n",
        "\n",
        "\n",
        "$D$ es la variable aleatoria que cuenta la diferencia de las caras de dos dados justos lanzados.\n",
        "\n",
        "$$D:\\Omega \\to R_{S}=\\{0, 1, 2, 3, 4, 5 \\}$$"
      ],
      "metadata": {
        "id": "vngJBo9FXElg"
      }
    },
    {
      "cell_type": "code",
      "source": [
        "## Definiremos a Omega como en el ejercicio anterior\n",
        "\n",
        "L = [i for i in range(1,7)]\n",
        "# print(L)\n",
        "Omega = set(product(L, repeat = 2))\n",
        "Omega"
      ],
      "metadata": {
        "colab": {
          "base_uri": "https://localhost:8080/"
        },
        "collapsed": true,
        "id": "Nf5tEJYSXvQL",
        "outputId": "019c9895-ab46-4e7d-ab36-1ff2f0bc18eb"
      },
      "execution_count": 57,
      "outputs": [
        {
          "output_type": "execute_result",
          "data": {
            "text/plain": [
              "{(1, 1),\n",
              " (1, 2),\n",
              " (1, 3),\n",
              " (1, 4),\n",
              " (1, 5),\n",
              " (1, 6),\n",
              " (2, 1),\n",
              " (2, 2),\n",
              " (2, 3),\n",
              " (2, 4),\n",
              " (2, 5),\n",
              " (2, 6),\n",
              " (3, 1),\n",
              " (3, 2),\n",
              " (3, 3),\n",
              " (3, 4),\n",
              " (3, 5),\n",
              " (3, 6),\n",
              " (4, 1),\n",
              " (4, 2),\n",
              " (4, 3),\n",
              " (4, 4),\n",
              " (4, 5),\n",
              " (4, 6),\n",
              " (5, 1),\n",
              " (5, 2),\n",
              " (5, 3),\n",
              " (5, 4),\n",
              " (5, 5),\n",
              " (5, 6),\n",
              " (6, 1),\n",
              " (6, 2),\n",
              " (6, 3),\n",
              " (6, 4),\n",
              " (6, 5),\n",
              " (6, 6)}"
            ]
          },
          "metadata": {},
          "execution_count": 57
        }
      ]
    },
    {
      "cell_type": "markdown",
      "source": [
        "$$D_{n}=\\{(i,j)\\in \\Omega : |i-j| = n \\}$$"
      ],
      "metadata": {
        "id": "cph7Vly8DlFQ"
      }
    },
    {
      "cell_type": "code",
      "source": [
        "## Se definen los posibles resultados de Omega y el valor correspondiente a D.\n",
        "\n",
        "D = {(i,j): abs(i-j) for i,j in Omega}\n",
        "D"
      ],
      "metadata": {
        "colab": {
          "base_uri": "https://localhost:8080/"
        },
        "collapsed": true,
        "id": "RFmbVJezX_uY",
        "outputId": "797b827c-603a-435e-dc27-65ede8710e93"
      },
      "execution_count": 58,
      "outputs": [
        {
          "output_type": "execute_result",
          "data": {
            "text/plain": [
              "{(3, 4): 1,\n",
              " (4, 3): 1,\n",
              " (3, 1): 2,\n",
              " (5, 4): 1,\n",
              " (4, 6): 2,\n",
              " (5, 1): 4,\n",
              " (2, 2): 0,\n",
              " (1, 6): 5,\n",
              " (2, 5): 3,\n",
              " (1, 3): 2,\n",
              " (6, 2): 4,\n",
              " (6, 5): 1,\n",
              " (4, 2): 2,\n",
              " (4, 5): 1,\n",
              " (3, 3): 0,\n",
              " (5, 6): 1,\n",
              " (3, 6): 3,\n",
              " (5, 3): 2,\n",
              " (2, 4): 2,\n",
              " (1, 2): 1,\n",
              " (2, 1): 1,\n",
              " (1, 5): 4,\n",
              " (6, 1): 5,\n",
              " (6, 4): 2,\n",
              " (3, 2): 1,\n",
              " (4, 1): 3,\n",
              " (3, 5): 2,\n",
              " (5, 2): 3,\n",
              " (4, 4): 0,\n",
              " (5, 5): 0,\n",
              " (1, 1): 0,\n",
              " (1, 4): 3,\n",
              " (2, 3): 1,\n",
              " (2, 6): 4,\n",
              " (6, 6): 0,\n",
              " (6, 3): 3}"
            ]
          },
          "metadata": {},
          "execution_count": 58
        }
      ]
    },
    {
      "cell_type": "code",
      "source": [
        "## Creamos un diccionario Default Vacío y lo poblamos con el contenido de D\n",
        "from collections import defaultdict\n",
        "dD = defaultdict(set)\n",
        "\n",
        "for i,j in D.items():\n",
        "  dD[j].add(i)\n",
        "\n",
        "dD"
      ],
      "metadata": {
        "colab": {
          "base_uri": "https://localhost:8080/"
        },
        "collapsed": true,
        "id": "a8cBCmPQYQqA",
        "outputId": "a3eba1c1-3006-45e3-ad5f-647ef527eb2a"
      },
      "execution_count": 59,
      "outputs": [
        {
          "output_type": "execute_result",
          "data": {
            "text/plain": [
              "defaultdict(set,\n",
              "            {1: {(1, 2),\n",
              "              (2, 1),\n",
              "              (2, 3),\n",
              "              (3, 2),\n",
              "              (3, 4),\n",
              "              (4, 3),\n",
              "              (4, 5),\n",
              "              (5, 4),\n",
              "              (5, 6),\n",
              "              (6, 5)},\n",
              "             2: {(1, 3),\n",
              "              (2, 4),\n",
              "              (3, 1),\n",
              "              (3, 5),\n",
              "              (4, 2),\n",
              "              (4, 6),\n",
              "              (5, 3),\n",
              "              (6, 4)},\n",
              "             4: {(1, 5), (2, 6), (5, 1), (6, 2)},\n",
              "             0: {(1, 1), (2, 2), (3, 3), (4, 4), (5, 5), (6, 6)},\n",
              "             5: {(1, 6), (6, 1)},\n",
              "             3: {(1, 4), (2, 5), (3, 6), (4, 1), (5, 2), (6, 3)}})"
            ]
          },
          "metadata": {},
          "execution_count": 59
        }
      ]
    },
    {
      "cell_type": "code",
      "source": [
        "## Creamos la Ley de D para los k y A en el diccionario anterior\n",
        "leyD = {k : P(A,Omega) for k, A in dD.items()}\n",
        "leyD"
      ],
      "metadata": {
        "colab": {
          "base_uri": "https://localhost:8080/"
        },
        "id": "dwQmYWkxYwzg",
        "outputId": "0e6de6cd-505e-47e0-aeaa-5df128007f6e"
      },
      "execution_count": 60,
      "outputs": [
        {
          "output_type": "execute_result",
          "data": {
            "text/plain": [
              "{1: Fraction(5, 18),\n",
              " 2: Fraction(2, 9),\n",
              " 4: Fraction(1, 9),\n",
              " 0: Fraction(1, 6),\n",
              " 5: Fraction(1, 18),\n",
              " 3: Fraction(1, 6)}"
            ]
          },
          "metadata": {},
          "execution_count": 60
        }
      ]
    },
    {
      "cell_type": "code",
      "source": [
        "## Convirtiendo a serie y ordenando\n",
        "ley_D = pd.Series(leyD).sort_index()\n",
        "ley_D"
      ],
      "metadata": {
        "colab": {
          "base_uri": "https://localhost:8080/"
        },
        "id": "6MajEIAkZZLz",
        "outputId": "e13fbfcc-cb94-4ed7-f392-839f031d2c7b"
      },
      "execution_count": 61,
      "outputs": [
        {
          "output_type": "execute_result",
          "data": {
            "text/plain": [
              "0     1/6\n",
              "1    5/18\n",
              "2     2/9\n",
              "3     1/6\n",
              "4     1/9\n",
              "5    1/18\n",
              "dtype: object"
            ]
          },
          "metadata": {},
          "execution_count": 61
        }
      ]
    },
    {
      "cell_type": "code",
      "source": [
        "## Obteniendo la probabilidad de que la diferencia de las caras sea mayor a 1\n",
        "## Mediante la Serie Ley_D (Ley de D).\n",
        "\n",
        "ley_D[ley_D.index > 1].sum()"
      ],
      "metadata": {
        "colab": {
          "base_uri": "https://localhost:8080/"
        },
        "id": "jfp_i8hYf0oF",
        "outputId": "ba19e8c1-4627-4ddf-a27a-ce1d6a78d9c4"
      },
      "execution_count": 62,
      "outputs": [
        {
          "output_type": "execute_result",
          "data": {
            "text/plain": [
              "Fraction(5, 9)"
            ]
          },
          "metadata": {},
          "execution_count": 62
        }
      ]
    },
    {
      "cell_type": "code",
      "source": [
        "## Obteniendo la probabilidad de que la diferencia de las caras sea mayor a 1\n",
        "## Mediante el Diccionario leyD\n",
        "\n",
        "evento = {A for d, A in leyD.items() if d>1}\n",
        "sum(evento)"
      ],
      "metadata": {
        "colab": {
          "base_uri": "https://localhost:8080/"
        },
        "id": "lCHAXV6Ub3jS",
        "outputId": "929924f6-88b3-45ba-ba3c-5ce94111e513"
      },
      "execution_count": 63,
      "outputs": [
        {
          "output_type": "execute_result",
          "data": {
            "text/plain": [
              "Fraction(5, 9)"
            ]
          },
          "metadata": {},
          "execution_count": 63
        }
      ]
    },
    {
      "cell_type": "code",
      "source": [
        "## Comprobando que la suma de la ley_D para todo k sea igual a 1.\n",
        "\n",
        "suma= 0\n",
        "for i in range(0,6):\n",
        "  suma += ley_D[i]\n",
        "\n",
        "float(suma)"
      ],
      "metadata": {
        "colab": {
          "base_uri": "https://localhost:8080/"
        },
        "id": "_tgu48fvZlN2",
        "outputId": "923cf48d-ad8b-42a0-b9cd-49ef3bdcbeff"
      },
      "execution_count": 64,
      "outputs": [
        {
          "output_type": "execute_result",
          "data": {
            "text/plain": [
              "1.0"
            ]
          },
          "metadata": {},
          "execution_count": 64
        }
      ]
    },
    {
      "cell_type": "markdown",
      "source": [
        "### *La suma de las caras sea par*\n",
        "\n",
        "$F$ es la variable aleatoria que cuenta la suma de las caras de dos dados.\n",
        "\n",
        "$$F:\\Omega \\to R_{F}=\\{2, 3, 4, 5, 6, 7, 8, 9, 10, 11, 12 \\}$$"
      ],
      "metadata": {
        "id": "ZyBTH3Nja18O"
      }
    },
    {
      "cell_type": "markdown",
      "source": [
        "$$F_{n}=\\{(i,j)\\in \\Omega : i+j = n \\}$$"
      ],
      "metadata": {
        "id": "V1MeNrLBI_4E"
      }
    },
    {
      "cell_type": "code",
      "source": [
        "## Definiremos a Omega como en el ejercicio anterior\n",
        "\n",
        "L = [i for i in range(1,7)]\n",
        "# print(L)\n",
        "Omega = set(product(L, repeat = 2))\n",
        "Omega"
      ],
      "metadata": {
        "colab": {
          "base_uri": "https://localhost:8080/"
        },
        "id": "9Fl_mmbES3b2",
        "outputId": "a6d2a0ab-5f3b-4238-b4fe-d042f20be07a"
      },
      "execution_count": 65,
      "outputs": [
        {
          "output_type": "execute_result",
          "data": {
            "text/plain": [
              "{(1, 1),\n",
              " (1, 2),\n",
              " (1, 3),\n",
              " (1, 4),\n",
              " (1, 5),\n",
              " (1, 6),\n",
              " (2, 1),\n",
              " (2, 2),\n",
              " (2, 3),\n",
              " (2, 4),\n",
              " (2, 5),\n",
              " (2, 6),\n",
              " (3, 1),\n",
              " (3, 2),\n",
              " (3, 3),\n",
              " (3, 4),\n",
              " (3, 5),\n",
              " (3, 6),\n",
              " (4, 1),\n",
              " (4, 2),\n",
              " (4, 3),\n",
              " (4, 4),\n",
              " (4, 5),\n",
              " (4, 6),\n",
              " (5, 1),\n",
              " (5, 2),\n",
              " (5, 3),\n",
              " (5, 4),\n",
              " (5, 5),\n",
              " (5, 6),\n",
              " (6, 1),\n",
              " (6, 2),\n",
              " (6, 3),\n",
              " (6, 4),\n",
              " (6, 5),\n",
              " (6, 6)}"
            ]
          },
          "metadata": {},
          "execution_count": 65
        }
      ]
    },
    {
      "cell_type": "code",
      "source": [
        "## Se definen los posibles resultados de Omega y el valor correspondiente a F.\n",
        "\n",
        "F = {(i,j): i+j for i,j in Omega}\n",
        "F"
      ],
      "metadata": {
        "colab": {
          "base_uri": "https://localhost:8080/"
        },
        "id": "0jFagRfRS97U",
        "outputId": "e91cb42a-0bd1-4a88-accc-4beb382027b6"
      },
      "execution_count": 66,
      "outputs": [
        {
          "output_type": "execute_result",
          "data": {
            "text/plain": [
              "{(3, 4): 7,\n",
              " (4, 3): 7,\n",
              " (3, 1): 4,\n",
              " (5, 4): 9,\n",
              " (4, 6): 10,\n",
              " (5, 1): 6,\n",
              " (2, 2): 4,\n",
              " (1, 6): 7,\n",
              " (2, 5): 7,\n",
              " (1, 3): 4,\n",
              " (6, 2): 8,\n",
              " (6, 5): 11,\n",
              " (4, 2): 6,\n",
              " (4, 5): 9,\n",
              " (3, 3): 6,\n",
              " (5, 6): 11,\n",
              " (3, 6): 9,\n",
              " (5, 3): 8,\n",
              " (2, 4): 6,\n",
              " (1, 2): 3,\n",
              " (2, 1): 3,\n",
              " (1, 5): 6,\n",
              " (6, 1): 7,\n",
              " (6, 4): 10,\n",
              " (3, 2): 5,\n",
              " (4, 1): 5,\n",
              " (3, 5): 8,\n",
              " (5, 2): 7,\n",
              " (4, 4): 8,\n",
              " (5, 5): 10,\n",
              " (1, 1): 2,\n",
              " (1, 4): 5,\n",
              " (2, 3): 5,\n",
              " (2, 6): 8,\n",
              " (6, 6): 12,\n",
              " (6, 3): 9}"
            ]
          },
          "metadata": {},
          "execution_count": 66
        }
      ]
    },
    {
      "cell_type": "code",
      "source": [
        "## Creamos un diccionario Default Vacío y lo poblamos con el contenido de F\n",
        "from collections import defaultdict\n",
        "dF = defaultdict(set)\n",
        "\n",
        "for i,j in F.items():\n",
        "  dF[j].add(i)\n",
        "\n",
        "dF"
      ],
      "metadata": {
        "colab": {
          "base_uri": "https://localhost:8080/"
        },
        "id": "K0tzwluzTJ-O",
        "outputId": "aa39e635-b6af-4746-a38a-02f3b73365b0"
      },
      "execution_count": 67,
      "outputs": [
        {
          "output_type": "execute_result",
          "data": {
            "text/plain": [
              "defaultdict(set,\n",
              "            {7: {(1, 6), (2, 5), (3, 4), (4, 3), (5, 2), (6, 1)},\n",
              "             4: {(1, 3), (2, 2), (3, 1)},\n",
              "             9: {(3, 6), (4, 5), (5, 4), (6, 3)},\n",
              "             10: {(4, 6), (5, 5), (6, 4)},\n",
              "             6: {(1, 5), (2, 4), (3, 3), (4, 2), (5, 1)},\n",
              "             8: {(2, 6), (3, 5), (4, 4), (5, 3), (6, 2)},\n",
              "             11: {(5, 6), (6, 5)},\n",
              "             3: {(1, 2), (2, 1)},\n",
              "             5: {(1, 4), (2, 3), (3, 2), (4, 1)},\n",
              "             2: {(1, 1)},\n",
              "             12: {(6, 6)}})"
            ]
          },
          "metadata": {},
          "execution_count": 67
        }
      ]
    },
    {
      "cell_type": "code",
      "source": [
        "## Creamos la Ley de F para los k y A en el diccionario anterior\n",
        "leyF = {k : P(A,Omega) for k, A in dF.items()}\n",
        "leyF"
      ],
      "metadata": {
        "colab": {
          "base_uri": "https://localhost:8080/"
        },
        "id": "3pMoTnhZTVVl",
        "outputId": "70749cf7-f128-485e-8b17-0b437ecb0e9b"
      },
      "execution_count": 68,
      "outputs": [
        {
          "output_type": "execute_result",
          "data": {
            "text/plain": [
              "{7: Fraction(1, 6),\n",
              " 4: Fraction(1, 12),\n",
              " 9: Fraction(1, 9),\n",
              " 10: Fraction(1, 12),\n",
              " 6: Fraction(5, 36),\n",
              " 8: Fraction(5, 36),\n",
              " 11: Fraction(1, 18),\n",
              " 3: Fraction(1, 18),\n",
              " 5: Fraction(1, 9),\n",
              " 2: Fraction(1, 36),\n",
              " 12: Fraction(1, 36)}"
            ]
          },
          "metadata": {},
          "execution_count": 68
        }
      ]
    },
    {
      "cell_type": "code",
      "source": [
        "## Convirtiendo a serie y ordenando\n",
        "ley_F = pd.Series(leyF).sort_index()\n",
        "ley_F"
      ],
      "metadata": {
        "colab": {
          "base_uri": "https://localhost:8080/"
        },
        "id": "jlJu5Q6_UV61",
        "outputId": "f82195a8-7379-47e3-b267-996825289ac7"
      },
      "execution_count": 69,
      "outputs": [
        {
          "output_type": "execute_result",
          "data": {
            "text/plain": [
              "2     1/36\n",
              "3     1/18\n",
              "4     1/12\n",
              "5      1/9\n",
              "6     5/36\n",
              "7      1/6\n",
              "8     5/36\n",
              "9      1/9\n",
              "10    1/12\n",
              "11    1/18\n",
              "12    1/36\n",
              "dtype: object"
            ]
          },
          "metadata": {},
          "execution_count": 69
        }
      ]
    },
    {
      "cell_type": "code",
      "source": [
        "## Obteniendo la probabilidad de que la suma de las caras sea un número par\n",
        "## Mediante la Serie Ley_F (Ley de F).\n",
        "\n",
        "ley_F[ley_F.index % 2 == 0].sum()"
      ],
      "metadata": {
        "colab": {
          "base_uri": "https://localhost:8080/"
        },
        "id": "u52pdua8U-xW",
        "outputId": "e37ea3f4-f400-4c55-9699-e0a98b9a0141"
      },
      "execution_count": 70,
      "outputs": [
        {
          "output_type": "execute_result",
          "data": {
            "text/plain": [
              "Fraction(1, 2)"
            ]
          },
          "metadata": {},
          "execution_count": 70
        }
      ]
    },
    {
      "cell_type": "code",
      "source": [
        "## Obteniendo la probabilidad de que la suma de las caras sea un número par\n",
        "## Mediante el Diccionario leyF\n",
        "\n",
        "evento = [A for d, A in leyF.items() if d % 2 == 0] # Se deja como lista para aceptar repetidos\n",
        "sum(evento)"
      ],
      "metadata": {
        "colab": {
          "base_uri": "https://localhost:8080/"
        },
        "id": "E9b5fHJ0VU3q",
        "outputId": "7bd1e26a-5256-4f66-c60b-d044cb0a15d2"
      },
      "execution_count": 71,
      "outputs": [
        {
          "output_type": "execute_result",
          "data": {
            "text/plain": [
              "Fraction(1, 2)"
            ]
          },
          "metadata": {},
          "execution_count": 71
        }
      ]
    },
    {
      "cell_type": "code",
      "source": [
        "## Comprobando que la suma de la ley_F para todo k sea igual a 1.\n",
        "\n",
        "suma= 0\n",
        "for i in range(2,13):\n",
        "  suma += ley_F[i]\n",
        "\n",
        "float(suma)"
      ],
      "metadata": {
        "colab": {
          "base_uri": "https://localhost:8080/"
        },
        "id": "diX6vvLYVWiH",
        "outputId": "e45a6355-d2d7-47fe-ee15-1378d048d11f"
      },
      "execution_count": 72,
      "outputs": [
        {
          "output_type": "execute_result",
          "data": {
            "text/plain": [
              "1.0"
            ]
          },
          "metadata": {},
          "execution_count": 72
        }
      ]
    }
  ]
}